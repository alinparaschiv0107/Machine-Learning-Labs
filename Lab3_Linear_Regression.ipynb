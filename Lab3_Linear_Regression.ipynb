{
  "nbformat": 4,
  "nbformat_minor": 0,
  "metadata": {
    "colab": {
      "name": "Copie a blocnotesului Linear Regression.ipynb",
      "provenance": [],
      "collapsed_sections": []
    },
    "kernelspec": {
      "display_name": "Python 3",
      "language": "python",
      "name": "python3"
    },
    "language_info": {
      "codemirror_mode": {
        "name": "ipython",
        "version": 3
      },
      "file_extension": ".py",
      "mimetype": "text/x-python",
      "name": "python",
      "nbconvert_exporter": "python",
      "pygments_lexer": "ipython3",
      "version": "3.6.8"
    }
  },
  "cells": [
    {
      "cell_type": "markdown",
      "metadata": {
        "id": "NTzkPEX47dMd"
      },
      "source": [
        "<a href=\"https://colab.research.google.com/github/cs-pub-ro/ML/blob/master/lab/lab3/Laborator_3-Skel.ipynb\" target=\"_parent\"><img src=\"https://colab.research.google.com/assets/colab-badge.svg\" alt=\"Open In Colab\"/></a>"
      ]
    },
    {
      "cell_type": "markdown",
      "metadata": {
        "id": "nmTEUYdMWFAY"
      },
      "source": [
        "Regresie Liniară\n",
        "==============\n",
        "\n",
        "\n",
        "* Tudor Berariu, Andrei Nica 2018\n",
        "\n",
        "* Alexandru Sorici 2020"
      ]
    },
    {
      "cell_type": "markdown",
      "metadata": {
        "id": "Bq-Exd-L7dMq"
      },
      "source": [
        "## 1. Scopul Laboratorului"
      ]
    },
    {
      "cell_type": "markdown",
      "metadata": {
        "id": "1_wcwKXu7dMr"
      },
      "source": [
        "Scopul laboratorului îl reprezintă înțelegerea algoritmului de **regresie liniară**, precum și a noțiunilor de _extragere de atribute (features)_ _complexitate a modelului_ și _regularizare_."
      ]
    },
    {
      "cell_type": "markdown",
      "metadata": {
        "id": "9BLYFzRk7dMs"
      },
      "source": [
        "## 2. Problema de rezolvat"
      ]
    },
    {
      "cell_type": "markdown",
      "metadata": {
        "id": "8C3J9lcA7dMt"
      },
      "source": [
        "Problema de rezolvat în acest laborator este una de învățare supervizată, mai concret, de **regresie**. \n",
        "\n",
        "Fiind date eșantionări de puncte (samples) **(X, t)**, generate de o funcție necunoscută, se dorește construirea unui **model liniar** care să poată _potrivi_ setul de date **X** (să aproximeze funcția) și care să poată fi utilizat pentru a _evalua/prezice_ valori noi.\n",
        "\n",
        "Vom explora trei aspecte ale problemei de **regresie liniara**:\n",
        "* Regresie liniara simplă (potrivirea unei drepte)\n",
        "* Regresie liniară folosind **extragere de atribute** (eng. feature extraction)\n",
        "* **Regularizare**, **analiza complexității modelului de regresie** și **influența numărului de date de antrenare**"
      ]
    },
    {
      "cell_type": "markdown",
      "metadata": {
        "id": "ScMFDixK7dMt"
      },
      "source": [
        "## 3. Regresie liniară simplă"
      ]
    },
    {
      "cell_type": "markdown",
      "metadata": {
        "id": "fxKrUev87dMu"
      },
      "source": [
        "![https://github.com/cs-pub-ro/ML/blob/master/lab/lab3/img/line-func.png](attachment:line-func.png)"
      ]
    },
    {
      "cell_type": "markdown",
      "metadata": {
        "id": "cDy8il7Q7dMv"
      },
      "source": [
        "Se dă setul de date (**X**, **t**) constând dintr-o mulțime **X** de N puncte de dimensiune D (i.e. fiecare ${\\bf x^{(i)}} \\in {\\bf X}$ este de forma ${\\bf x} = (x_1, x_2, ..., x_D)$).\n",
        "Pentru fiecare ${\\bf x}^{(n)} \\in X$ exista un $t^{(n)}$ reprezentand valoarea unei functii $f$ (necunoscute noua) in punctul ${\\bf x}^{(n)}$, i.e. $t^{(n)} = f({\\bf x}^{(n)})$.\n",
        "\n",
        "Un model de regresie liniara simpla care doreste sa aproximeze functia $f$ este definit ca $${\\bf y} = {\\bf X} {\\bf w} + b$$ unde ${\\bf w}$ este un vector D-dimensional de ponderi, iar $b$ este termenul de bias.\n",
        "\n",
        "In regresia liniara simpla se cauta solutia de **forma inchisa**:\n",
        "$${\\bf w}^* = \\underset{{\\bf w}}{\\arg\\!\\min} \\sum_{n} \\left({\\bf x^{(n)}} {\\bf w} - t^{(n)}\\right)^2$$\n",
        "$${\\bf w}^* = \\left({\\bf X}^\\intercal {\\bf X}\\right)^{-1} {\\bf X}^\\intercal {\\bf t} = {\\bf X}^{\\dagger} {\\bf t}$$\n",
        "\n",
        "unde ${\\bf X^{\\dagger}}$ este _pseudo inversa_ matricii ${\\bf X}$.\n"
      ]
    },
    {
      "cell_type": "markdown",
      "metadata": {
        "id": "lo3_mmOh7dMv"
      },
      "source": [
        "## 4. Regresie liniara cu extragere de atribute"
      ]
    },
    {
      "cell_type": "markdown",
      "metadata": {
        "id": "4DE_R71R7dMw"
      },
      "source": [
        "![https://github.com/cs-pub-ro/ML/blob/master/lab3/img/sine-func.png](attachment:sine-func.png)"
      ]
    },
    {
      "cell_type": "markdown",
      "metadata": {
        "id": "C8-UankC7dMx"
      },
      "source": [
        "In unele cazuri, functia $f$ din care provine setul de date (**X, t**) nu este unul care sa poata fi aproximat printr-o simpla combinatie liniara a **spatiului de intrare** (i.e. a domeniului din care provine **X**).\n",
        "\n",
        "Intr-un astfel de caz, spatiul de intrare poate fi _transformat_ intr-unul mai complex, avand o capabilitate de modelare mai bogata.\n",
        "Acest lucru se face prin intermediul unor _functii de transformare_ $\\phi$ care duc ${\\bf x^{(n)}} \\rightarrow \\phi({\\bf x^{(n)}})$.\n",
        "\n",
        "Un exemplu il reprezinta functiile de **transformari polinomiale** de tipul:\n",
        "$$\\phi_i(x) = x^i, \\quad 0 \\le i \\le M$$\n",
        "unde $M$ este gradul polinomului cu care se face transformarea."
      ]
    },
    {
      "cell_type": "markdown",
      "metadata": {
        "id": "FCso-ePU7dMx"
      },
      "source": [
        "Solutia de regresie liniara (in forma inchisa) devine atunci:\n",
        "\n",
        "\n",
        "$${\\bf w}^* = \\underset{{\\bf w}}{\\arg\\!\\min} \\sum_{n} \\left({\\bf \\phi}^{(n)}{\\bf w} - t^{(n)}\\right)^2$$\n",
        "\n",
        "\n",
        "$${\\bf w}^* = \\left({\\bf \\Phi}^\\intercal {\\bf \\Phi}\\right)^{-1} {\\bf \\Phi}^\\intercal {\\bf t} = {\\bf \\Phi}^{\\dagger} {\\bf t}$$"
      ]
    },
    {
      "cell_type": "markdown",
      "metadata": {
        "id": "gOPERm2Y7dMy"
      },
      "source": [
        "## 5. Regresie liniara cu regularizare"
      ]
    },
    {
      "cell_type": "markdown",
      "metadata": {
        "id": "JLD45N6Z7dMy"
      },
      "source": [
        "O solutie de optimizare in sensul celor mai mici patrate (ordinary least squares - OLS), cauta sa gaseasca _cea mai buna potrivire_ (best fit) pentru punctele din setul de date dat la antrenare.\n",
        "\n",
        "Acest lucru duce la construirea unui estimator **unbiased**, i.e. modelul nu va prefera _prioritizarea_ unui feature (i.e. un anume $\\phi^{(n)}$) in detrimentul altuia.\n",
        "In plus, daca _modelul este complex,_  iar _datele de antrenare sunt putine,_ optimizarea OLS poate duce la fenomenul de **overfit** (i.e. modelul este prea specific pe datele de antrenare, dar nu are o evaluare buna pe date de test).\n",
        "\n",
        "Un proces de **regularizare** are ca scop impunerea unei restrictii asupra parametrilor ${\\bf w}$, astfel incat modelul sa poata da un bias acelor feature-uri care sunt mai relevante (importante) in construirea estimatorului.\n",
        "\n",
        "Solutia de **regresie liniara cu regularizare L2** se scrie astfel:\n",
        "\n",
        "$${\\bf w}^* = \\underset{{\\bf w}}{\\arg\\!\\min} \\sum_{n} \\left({\\bf \\phi}^{(n)}{\\bf w} - t^{(n)}\\right)^2 + \\alpha {\\bf w^T}{\\bf w} \\equiv \\underset{{\\bf w: w^Tw \\leq t(\\alpha)}}{\\arg\\!\\min} \\sum_{n} \\left({\\bf \\phi}^{(n)}{\\bf w} - t^{(n)}\\right)^2 $$ \n",
        "\n",
        "Solutia de forma inchisa pentru regresia liniara cu regularizare L2 (eng. Ridge Regression) este data prin:\n",
        "$${\\bf w}^* = \\left({\\bf \\Phi}^\\intercal {\\bf \\Phi} + \\alpha I \\right)^{-1} {\\bf \\Phi}^\\intercal {\\bf t}$$\n"
      ]
    },
    {
      "cell_type": "markdown",
      "metadata": {
        "id": "D7FYxEN97dMz"
      },
      "source": [
        "### Dependente"
      ]
    },
    {
      "cell_type": "code",
      "metadata": {
        "scrolled": false,
        "id": "fTQKBcV07dM0",
        "colab": {
          "base_uri": "https://localhost:8080/"
        },
        "outputId": "7425058b-4b3c-4ef9-b1cc-5b7ecc88cfc4"
      },
      "source": [
        "!pip install numpy\n",
        "!pip install matplotlib\n",
        "!pip install seaborn"
      ],
      "execution_count": 1104,
      "outputs": [
        {
          "output_type": "stream",
          "text": [
            "Requirement already satisfied: numpy in /usr/local/lib/python3.7/dist-packages (1.19.5)\n",
            "Requirement already satisfied: matplotlib in /usr/local/lib/python3.7/dist-packages (3.2.2)\n",
            "Requirement already satisfied: kiwisolver>=1.0.1 in /usr/local/lib/python3.7/dist-packages (from matplotlib) (1.3.1)\n",
            "Requirement already satisfied: python-dateutil>=2.1 in /usr/local/lib/python3.7/dist-packages (from matplotlib) (2.8.1)\n",
            "Requirement already satisfied: pyparsing!=2.0.4,!=2.1.2,!=2.1.6,>=2.0.1 in /usr/local/lib/python3.7/dist-packages (from matplotlib) (2.4.7)\n",
            "Requirement already satisfied: cycler>=0.10 in /usr/local/lib/python3.7/dist-packages (from matplotlib) (0.10.0)\n",
            "Requirement already satisfied: numpy>=1.11 in /usr/local/lib/python3.7/dist-packages (from matplotlib) (1.19.5)\n",
            "Requirement already satisfied: six>=1.5 in /usr/local/lib/python3.7/dist-packages (from python-dateutil>=2.1->matplotlib) (1.15.0)\n",
            "Requirement already satisfied: seaborn in /usr/local/lib/python3.7/dist-packages (0.11.1)\n",
            "Requirement already satisfied: scipy>=1.0 in /usr/local/lib/python3.7/dist-packages (from seaborn) (1.4.1)\n",
            "Requirement already satisfied: pandas>=0.23 in /usr/local/lib/python3.7/dist-packages (from seaborn) (1.1.5)\n",
            "Requirement already satisfied: matplotlib>=2.2 in /usr/local/lib/python3.7/dist-packages (from seaborn) (3.2.2)\n",
            "Requirement already satisfied: numpy>=1.15 in /usr/local/lib/python3.7/dist-packages (from seaborn) (1.19.5)\n",
            "Requirement already satisfied: python-dateutil>=2.7.3 in /usr/local/lib/python3.7/dist-packages (from pandas>=0.23->seaborn) (2.8.1)\n",
            "Requirement already satisfied: pytz>=2017.2 in /usr/local/lib/python3.7/dist-packages (from pandas>=0.23->seaborn) (2018.9)\n",
            "Requirement already satisfied: pyparsing!=2.0.4,!=2.1.2,!=2.1.6,>=2.0.1 in /usr/local/lib/python3.7/dist-packages (from matplotlib>=2.2->seaborn) (2.4.7)\n",
            "Requirement already satisfied: cycler>=0.10 in /usr/local/lib/python3.7/dist-packages (from matplotlib>=2.2->seaborn) (0.10.0)\n",
            "Requirement already satisfied: kiwisolver>=1.0.1 in /usr/local/lib/python3.7/dist-packages (from matplotlib>=2.2->seaborn) (1.3.1)\n",
            "Requirement already satisfied: six>=1.5 in /usr/local/lib/python3.7/dist-packages (from python-dateutil>=2.7.3->pandas>=0.23->seaborn) (1.15.0)\n"
          ],
          "name": "stdout"
        }
      ]
    },
    {
      "cell_type": "code",
      "metadata": {
        "id": "T9ifwdG8WFAa"
      },
      "source": [
        "import numpy as np\n",
        "\n",
        "import matplotlib.pyplot as plt\n",
        "import seaborn as sns"
      ],
      "execution_count": 1105,
      "outputs": []
    },
    {
      "cell_type": "markdown",
      "metadata": {
        "id": "oPXgUPf47dM1"
      },
      "source": [
        "## 6. Generare seturi de date"
      ]
    },
    {
      "cell_type": "code",
      "metadata": {
        "scrolled": true,
        "id": "pgx-Xcur7dM2"
      },
      "source": [
        "DATASET_TYPE = \"linear\" # linear, polinomial, sin"
      ],
      "execution_count": 1106,
      "outputs": []
    },
    {
      "cell_type": "code",
      "metadata": {
        "id": "7Nj_FtrV7dM2"
      },
      "source": [
        "def generate_examples(dataset_type = \"linear\", N = 9, noise = 0.2, dist_noise = 0.2):\n",
        "    if dataset_type == \"linear\":\n",
        "        X = np.linspace(0, 10, N)\n",
        "        t = X * 0.25 + 1.75 + np.random.randn(N) * noise\n",
        "        return X, t\n",
        "    \n",
        "    elif dataset_type == \"polinomial\":\n",
        "        X = np.linspace(-1.5, 5.5, N)\n",
        "        X += np.random.randn(N) * dist_noise\n",
        "        t = .25*X * X - X + 1 + np.random.randn(N) * noise\n",
        "        return X, t\n",
        "    \n",
        "    elif dataset_type == \"sin\":\n",
        "        X = np.linspace(0, 1.75 * np.pi, N)\n",
        "        X += np.random.randn(N) * dist_noise\n",
        "        t = np.sin(X) + np.random.randn(N) * noise\n",
        "        return X, t\n",
        "    \n",
        "    else:\n",
        "        raise ValueError(\"Unknown dataset type: \" + dataset_type)"
      ],
      "execution_count": 1107,
      "outputs": []
    },
    {
      "cell_type": "markdown",
      "metadata": {
        "id": "8JiOROEf7dM3"
      },
      "source": [
        "## 6. Cerinta 1: Implementare model de regresie liniara"
      ]
    },
    {
      "cell_type": "markdown",
      "metadata": {
        "id": "9DaoSAcp7dM3"
      },
      "source": [
        "### 6.1 Cerinta 1.1: Implementarea modelului general de regresie liniara [3 pct]"
      ]
    },
    {
      "cell_type": "code",
      "metadata": {
        "id": "ZW45ARb47dM4"
      },
      "source": [
        "class LinearRegression(object):\n",
        "    \"\"\"\n",
        "    Modelul de Regresie Liniara\n",
        "    y = X @ w \n",
        "        - valoarea prezisă de model\n",
        "    t ~ N(t|X @ w, var) \n",
        "        - valorile de antrenare (target) sunt fac parte dintr-o distributie normala in jurul mean-ului X@w, \n",
        "          la care se adauga zgomot dat de varianta `var`\n",
        "    \"\"\"\n",
        "\n",
        "    def fit(self, X, t):\n",
        "        \"\"\"\n",
        "        Antrenarea modelului in sensul celor mai mici patrate (least squares fitting)\n",
        "        Parameterii\n",
        "        ----------\n",
        "        X : (N, D) np.ndarray\n",
        "            variabilele de intrare\n",
        "        t : (N,) np.ndarray\n",
        "            variabilele tinta (target / ground truth)\n",
        "        \"\"\"\n",
        "        # TODO codul vostru aici: calculati vectorul de ponderi w\n",
        "        N, D = X.shape\n",
        "        self.w = np.linalg.pinv(X) @ t\n",
        "        # end \n",
        "        \n",
        "        self.var = np.mean(np.square(X @ self.w - t))\n",
        "\n",
        "    def predict(self, X, return_std=False):\n",
        "        \"\"\"\n",
        "        Intoarce valoari prezise de model pentru sample-uri X\n",
        "        Parametrii\n",
        "        ----------\n",
        "        X : (N, D) np.ndarray\n",
        "            sample-uri de valori D-dimensionale pentru care se doreste predictia valorii conform modelului\n",
        "        return_std : bool, optional\n",
        "            intoarce deviatia standard a fiecarei valori prezice, daca e setat pe True\n",
        "        \n",
        "        Intoarce\n",
        "        ----------\n",
        "        y : (N,) np.ndarray\n",
        "            vector de valori prezise\n",
        "        y_std : (N,) np.ndarray\n",
        "            deviatia standard a fiecarei valori prezise\n",
        "        \"\"\"\n",
        "        # TODO codul vostru aici: calculati valoarea prezisa de modelul vostru\n",
        "        N, D = X.shape\n",
        "        y = X @ self.w\n",
        "        # end codul vostru aici\n",
        "        \n",
        "        if return_std:\n",
        "            # TODO codul vostru aici: intoarceti un vector de aceeasi dimensiune cu y, care \n",
        "            # are pe fiecare valoare egala cu deviatia standard modelului antrenat (i.e. sqrt(var))\n",
        "            y_std = np.sqrt(self.var)\n",
        "            return y, y_std\n",
        "        return y"
      ],
      "execution_count": 1108,
      "outputs": []
    },
    {
      "cell_type": "markdown",
      "metadata": {
        "id": "I1-JLlH0WFAi"
      },
      "source": [
        "### 6.2 Cerinta 1.2 Implementarea functiei de transformare polinomiala [1 pct]\n",
        "$$\\phi_i(x) = x^i, \\quad 0 \\le i \\le M$$"
      ]
    },
    {
      "cell_type": "code",
      "metadata": {
        "id": "uzIx-cX2WFAj",
        "scrolled": true,
        "colab": {
          "base_uri": "https://localhost:8080/"
        },
        "outputId": "2038318e-7418-485d-8b6d-91e6c6676673"
      },
      "source": [
        "def extract_polynomial_features(X, M):\n",
        "    phi = X\n",
        "    # TODO codul vostru aici: intoarceti valorile phi_n astfel incat pentru fiecare \n",
        "    # intrare x phi_n = [1, x, x^2, ..., x^M]\n",
        "    phi_n = np.zeros([phi.size, M + 1])\n",
        "\n",
        "    for i in range(phi.size):\n",
        "        for m in range(M + 1):\n",
        "            phi_n[i][m] = np.power(phi[i], m)\n",
        "    # end\n",
        "    \n",
        "    return phi_n\n",
        "\n",
        "print(X_train)\n",
        "extract_polynomial_features(X_train,3)"
      ],
      "execution_count": 1109,
      "outputs": [
        {
          "output_type": "stream",
          "text": [
            "[-0.14570846  0.83081747  1.12158376  1.95240739  2.41327672  3.47786153\n",
            "  3.99944811  4.41590098  5.05993199  5.83235924]\n"
          ],
          "name": "stdout"
        },
        {
          "output_type": "execute_result",
          "data": {
            "text/plain": [
              "array([[ 1.00000000e+00, -1.45708460e-01,  2.12309553e-02,\n",
              "        -3.09352980e-03],\n",
              "       [ 1.00000000e+00,  8.30817475e-01,  6.90257676e-01,\n",
              "         5.73478139e-01],\n",
              "       [ 1.00000000e+00,  1.12158376e+00,  1.25795012e+00,\n",
              "         1.41089642e+00],\n",
              "       [ 1.00000000e+00,  1.95240739e+00,  3.81189460e+00,\n",
              "         7.44237118e+00],\n",
              "       [ 1.00000000e+00,  2.41327672e+00,  5.82390453e+00,\n",
              "         1.40546932e+01],\n",
              "       [ 1.00000000e+00,  3.47786153e+00,  1.20955208e+01,\n",
              "         4.20665465e+01],\n",
              "       [ 1.00000000e+00,  3.99944811e+00,  1.59955852e+01,\n",
              "         6.39735128e+01],\n",
              "       [ 1.00000000e+00,  4.41590098e+00,  1.95001815e+01,\n",
              "         8.61108704e+01],\n",
              "       [ 1.00000000e+00,  5.05993199e+00,  2.56029117e+01,\n",
              "         1.29548992e+02],\n",
              "       [ 1.00000000e+00,  5.83235924e+00,  3.40164143e+01,\n",
              "         1.98395948e+02]])"
            ]
          },
          "metadata": {
            "tags": []
          },
          "execution_count": 1109
        }
      ]
    },
    {
      "cell_type": "markdown",
      "metadata": {
        "id": "EzU616tq7dM7"
      },
      "source": [
        "### 6.3 Cerinta 1.3 Potrivirea unei drepte prin regresie liniara simpla [1 pct]"
      ]
    },
    {
      "cell_type": "code",
      "metadata": {
        "id": "B8Bex3aZ7dM7"
      },
      "source": [
        "N_train = 10\n",
        "N_test = 10\n",
        "noise = 0.22\n",
        "\n",
        "X_train, t_train = generate_examples(dataset_type=\"linear\", N=N_train, noise=noise)\n",
        "X_test, t_test = generate_examples(dataset_type=\"linear\", N=N_test, noise=noise)\n",
        "X_real, t_real = generate_examples(dataset_type=\"linear\", N=N_test, noise=0.)\n"
      ],
      "execution_count": 1110,
      "outputs": []
    },
    {
      "cell_type": "code",
      "metadata": {
        "id": "-UlrIODiWFAe",
        "scrolled": false,
        "colab": {
          "base_uri": "https://localhost:8080/",
          "height": 388
        },
        "outputId": "735a7a67-11a1-40d8-dd2b-faab43456f35"
      },
      "source": [
        "plt.figure(figsize=(12,6)); plt.axis('equal')\n",
        "plt.plot(X_real, t_real, sns.xkcd_rgb[\"green\"], label=\"Ideal function\")\n",
        "plt.scatter(X_train, t_train, s=100, label=\"Train examples\")\n",
        "plt.scatter(X_test, t_test, s=10, label=\"Test examples\")\n",
        "plt.xlabel(\"x\")\n",
        "plt.legend(bbox_to_anchor=(1, 1), loc='upper right', ncol=1)\n",
        "plt.show()"
      ],
      "execution_count": 1111,
      "outputs": [
        {
          "output_type": "display_data",
          "data": {
            "image/png": "[encoded data removed]",
            "text/plain": [
              "<Figure size 864x432 with 1 Axes>"
            ]
          },
          "metadata": {
            "tags": [],
            "needs_background": "light"
          }
        }
      ]
    },
    {
      "cell_type": "code",
      "metadata": {
        "id": "-QiAy4kC7dM-"
      },
      "source": [
        "# TODO codul vostru aici:\n",
        "\n",
        "# creati un model liniar\n",
        "model = LinearRegression()\n",
        "\n",
        "# Folositi functia extract_polynomial_features pentru a introduce termenul de bias in matricile X_train si X_test\n",
        "X_train_feat = extract_polynomial_features(X_train, 5)\n",
        "X_test_feat = extract_polynomial_features(X_test, 5)\n",
        "\n",
        "# antrenati modelul vostru\n",
        "model.fit(X_train_feat, t_train)\n",
        "\n",
        "# obtineti predictia pe setul de antrenare si pe setul de test\n",
        "y_train = model.predict(X_train_feat) \n",
        "y_test, y_test_std = model.predict(X_test_feat, True)"
      ],
      "execution_count": 1112,
      "outputs": []
    },
    {
      "cell_type": "code",
      "metadata": {
        "id": "lDhZGl377dM_"
      },
      "source": [
        "def mean_squared_error(y, t):\n",
        "    return np.mean((y - t) * (y- t))"
      ],
      "execution_count": 1113,
      "outputs": []
    },
    {
      "cell_type": "code",
      "metadata": {
        "id": "xnWrD2Xn7dNA",
        "colab": {
          "base_uri": "https://localhost:8080/"
        },
        "outputId": "0fbac206-51b0-429d-8f15-90abb8ebdc69"
      },
      "source": [
        "print(\"Train error:\", mean_squared_error(y_train, t_train))\n",
        "print(\"Test  error:\", mean_squared_error(y_test, t_test))"
      ],
      "execution_count": 1114,
      "outputs": [
        {
          "output_type": "stream",
          "text": [
            "Train error: 0.007580849941735251\n",
            "Test  error: 0.062443535972344345\n"
          ],
          "name": "stdout"
        }
      ]
    },
    {
      "cell_type": "markdown",
      "metadata": {
        "id": "-jcdUHTQ7dNB"
      },
      "source": [
        "#### Vizualizarea modelului invatat"
      ]
    },
    {
      "cell_type": "code",
      "metadata": {
        "id": "Rj_x5Tw97dNB",
        "colab": {
          "base_uri": "https://localhost:8080/",
          "height": 265
        },
        "outputId": "616a4802-2948-4504-cb63-54c90b08b3af"
      },
      "source": [
        "plt.scatter(X_train, t_train, facecolor=\"none\", edgecolor=\"b\", s=50, label=\"training data\")\n",
        "plt.plot(X_real, t_real, label=\"line\")\n",
        "plt.plot(X_test, y_test, label=\"prediction\")\n",
        "plt.fill_between(\n",
        "    X_test, y_test - y_test_std, y_test + y_test_std,\n",
        "    color=\"orange\", alpha=0.5, label=\"std.\")\n",
        "plt.legend()\n",
        "plt.show()"
      ],
      "execution_count": 1115,
      "outputs": [
        {
          "output_type": "display_data",
          "data": {
            "image/png": "[encoded data removed]",
            "text/plain": [
              "<Figure size 432x288 with 1 Axes>"
            ]
          },
          "metadata": {
            "tags": [],
            "needs_background": "light"
          }
        }
      ]
    },
    {
      "cell_type": "markdown",
      "metadata": {
        "id": "9jJtIJ3I7dNC"
      },
      "source": [
        "## 7. Cerinta 2.1: Implementare regresie liniara cu regularizare (Ridge Regression) [3 pct]"
      ]
    },
    {
      "cell_type": "code",
      "metadata": {
        "id": "dJs5Gi2f7dNC"
      },
      "source": [
        "class RidgeRegression(LinearRegression):\n",
        "    \"\"\"\n",
        "    Modelul de regresie liniara, folosind regularizare L2\n",
        "    w* = argmin |t - X @ w| + alpha * |w|_2^2\n",
        "    \"\"\"\n",
        "\n",
        "    def __init__(self, alpha:float=1.):\n",
        "        super(RidgeRegression, self).__init__()\n",
        "        self.alpha = alpha\n",
        "\n",
        "        \n",
        "    def fit(self, X:np.ndarray, t:np.ndarray):\n",
        "        \"\"\"\n",
        "        Antrenarea modelului in sensul celor mai mici patrate (least squares fitting), tinand cont si de regularizare\n",
        "        Parameterii\n",
        "        ----------\n",
        "         X : (N, D) np.ndarray\n",
        "            variabilele de intrare\n",
        "        t : (N,) np.ndarray\n",
        "            variabilele tinta (target / ground truth)\n",
        "        \"\"\"\n",
        "        # TODO codul vostru aici: calculati vectorul de ponderi w, conform formulei de la punctul 5 \n",
        "        N, D = X.shape\n",
        "        self.w = np.linalg.inv(X.T @ X + self.alpha * np.identity(D)) @ X.T @ t\n",
        "        # end\n",
        "        \n",
        "        self.var = np.mean(np.square(X @ self.w - t))"
      ],
      "execution_count": 1116,
      "outputs": []
    },
    {
      "cell_type": "markdown",
      "metadata": {
        "id": "sBA8ndpd7dND"
      },
      "source": [
        "## 7.1 Cerinta 2.2: Potrivirea functiei sin(x) cu feature-uri polinomiale [1 pct]"
      ]
    },
    {
      "cell_type": "markdown",
      "metadata": {
        "id": "xonhzPUa7dND"
      },
      "source": [
        "**Analizati** modelele de regresie liniara _cu_ si _fara_  regularizare. Ce concluzii se deduc din graficele de vizualizare si valorile functiei de eroare (MSE - mean squared error)"
      ]
    },
    {
      "cell_type": "code",
      "metadata": {
        "id": "vYitRZlU7dNE"
      },
      "source": [
        "N_train = 30 #@param {type: \"slider\", default: 10, min: 10, max: 100}\n",
        "N_test = 20\n",
        "noise = 0.22\n",
        "\n",
        "X_train, t_train = generate_examples(dataset_type=\"sin\", N=N_train, noise=noise)\n",
        "X_test, t_test = generate_examples(dataset_type=\"sin\", N=N_test, noise=noise)\n",
        "X_real, t_real = generate_examples(dataset_type=\"sin\", N=100, noise=.0, dist_noise=.0)"
      ],
      "execution_count": 1117,
      "outputs": []
    },
    {
      "cell_type": "markdown",
      "metadata": {
        "id": "ZTRQQvBj7dNE"
      },
      "source": [
        "### Folosirea unui model de regresie liniara, _fara_ regularizare"
      ]
    },
    {
      "cell_type": "code",
      "metadata": {
        "id": "ZO-mN84C7dNE"
      },
      "source": [
        "M = 3 #@param {type: \"slider\", default: 8, min: 1, max: 15}\n",
        "X_train_feat = extract_polynomial_features(X_train, M)\n",
        "X_test_feat = extract_polynomial_features(X_test, M)\n",
        "\n",
        "model = LinearRegression()\n",
        "model.fit(X_train_feat, t_train)\n",
        "\n",
        "y_train = model.predict(X_train_feat, return_std=False) \n",
        "y_test, y_test_std = model.predict(X_test_feat, return_std=True)"
      ],
      "execution_count": 1118,
      "outputs": []
    },
    {
      "cell_type": "markdown",
      "metadata": {
        "id": "UXVKiwziWFAu"
      },
      "source": [
        "#### Vizualizarea modelului invatat"
      ]
    },
    {
      "cell_type": "code",
      "metadata": {
        "id": "-mzDqoAwWFAv",
        "scrolled": true,
        "colab": {
          "base_uri": "https://localhost:8080/",
          "height": 300
        },
        "outputId": "bae21c09-4288-4f01-8977-ecd867707807"
      },
      "source": [
        "print(\"Train error:\", mean_squared_error(y_train, t_train))\n",
        "print(\"Test  error:\", mean_squared_error(y_test, t_test))\n",
        "\n",
        "# Plot\n",
        "plt.scatter(X_train, t_train, facecolor=\"none\", edgecolor=\"b\", s=50, label=\"training data\")\n",
        "plt.plot(X_real, t_real, label=\"$\\sin(2\\pi x)$\")\n",
        "plt.plot(X_test, y_test, label=\"prediction\")\n",
        "plt.fill_between(\n",
        "    X_test, y_test - y_test_std, y_test + y_test_std,\n",
        "    color=\"orange\", alpha=0.5, label=\"std.\")\n",
        "plt.legend()\n",
        "plt.show()"
      ],
      "execution_count": 1119,
      "outputs": [
        {
          "output_type": "stream",
          "text": [
            "Train error: 0.03874756308928649\n",
            "Test  error: 0.07526319535985022\n"
          ],
          "name": "stdout"
        },
        {
          "output_type": "display_data",
          "data": {
            "image/png": "[encoded data removed]",
            "text/plain": [
              "<Figure size 432x288 with 1 Axes>"
            ]
          },
          "metadata": {
            "tags": [],
            "needs_background": "light"
          }
        }
      ]
    },
    {
      "cell_type": "markdown",
      "metadata": {
        "id": "cgU5hSOM7dNG"
      },
      "source": [
        "### Folosirea unui model de regresie liniara, _cu_ regularizare"
      ]
    },
    {
      "cell_type": "code",
      "metadata": {
        "id": "ixwvhXMR7dNG"
      },
      "source": [
        "model = RidgeRegression(alpha=1.75)\n",
        "model.fit(X_train_feat, t_train)\n",
        "\n",
        "y_train = model.predict(X_train_feat, return_std=False) \n",
        "y_test, y_test_std = model.predict(X_test_feat, return_std=True)"
      ],
      "execution_count": 1120,
      "outputs": []
    },
    {
      "cell_type": "code",
      "metadata": {
        "id": "HiHnsPtr7dNG",
        "colab": {
          "base_uri": "https://localhost:8080/",
          "height": 300
        },
        "outputId": "ddaf9c29-d387-409f-bba7-54f8688b5bbb"
      },
      "source": [
        "print(\"Train error:\", mean_squared_error(y_train, t_train))\n",
        "print(\"Test  error:\", mean_squared_error(y_test, t_test))\n",
        "\n",
        "# Plot\n",
        "plt.scatter(X_train, t_train, facecolor=\"none\", edgecolor=\"b\", s=50, label=\"training data\")\n",
        "plt.plot(X_real, t_real, label=\"$\\sin(2\\pi x)$\")\n",
        "plt.plot(X_test, y_test, label=\"prediction\")\n",
        "plt.fill_between(\n",
        "    X_test, y_test - y_test_std, y_test + y_test_std,\n",
        "    color=\"orange\", alpha=0.5, label=\"std.\")\n",
        "plt.legend()\n",
        "plt.show()"
      ],
      "execution_count": 1121,
      "outputs": [
        {
          "output_type": "stream",
          "text": [
            "Train error: 0.08822907213873597\n",
            "Test  error: 0.07897553196558683\n"
          ],
          "name": "stdout"
        },
        {
          "output_type": "display_data",
          "data": {
            "image/png": "[encoded data removed]",
            "text/plain": [
              "<Figure size 432x288 with 1 Axes>"
            ]
          },
          "metadata": {
            "tags": [],
            "needs_background": "light"
          }
        }
      ]
    },
    {
      "cell_type": "markdown",
      "metadata": {
        "id": "IBWbAz1RWFAy"
      },
      "source": [
        "## 8. Cerinta 3: Vizualizarea curbelor de antrenare si testare [1 pct]"
      ]
    },
    {
      "cell_type": "markdown",
      "metadata": {
        "id": "-937eD8n7dNH"
      },
      "source": [
        "**Analizati** curbele de _antrenare_ si _testare_ pentru modele de regresie liniara _cu_ si _fara_ regularizare, de **complexitate** diferita (M diferit).\n",
        "\n",
        "Discutati graficele rezultate:\n",
        "* care este regimul de underfitting?\n",
        "* care este regimul de overfitting?\n",
        "* ce se intampla daca modificati numarul de date de antrenare (N_train) de la punctul 7.1? "
      ]
    },
    {
      "cell_type": "code",
      "metadata": {
        "id": "wVflHuMoWFAz",
        "colab": {
          "base_uri": "https://localhost:8080/",
          "height": 388
        },
        "outputId": "3e81a4d8-4aa8-4c97-b46f-a3c204b5fb9f"
      },
      "source": [
        "train_lin_mse = []\n",
        "test_lin_mse = []\n",
        "\n",
        "train_ridge_mse = []\n",
        "test_ridge_mse = []\n",
        "\n",
        "for M in range(15):\n",
        "    X_train_feat = extract_polynomial_features(X_train, M)\n",
        "    X_test_feat = extract_polynomial_features(X_test, M)\n",
        "    \n",
        "    model_linear = LinearRegression()\n",
        "    model_ridge = RidgeRegression(alpha=1.75)\n",
        "    \n",
        "    model_linear.fit(X_train_feat, t_train)\n",
        "    model_ridge.fit(X_train_feat, t_train)\n",
        "    \n",
        "    y_train_lin = model_linear.predict(X_train_feat)\n",
        "    y_test_lin = model_linear.predict(X_test_feat)\n",
        "    \n",
        "    y_train_ridge = model_ridge.predict(X_train_feat)\n",
        "    y_test_ridge = model_ridge.predict(X_test_feat)\n",
        "    \n",
        "    train_lin_mse.append(mean_squared_error(y_train_lin, t_train))\n",
        "    test_lin_mse.append(mean_squared_error(y_test_lin, t_test))\n",
        "    \n",
        "    train_ridge_mse.append(mean_squared_error(y_train_ridge, t_train))\n",
        "    test_ridge_mse.append(mean_squared_error(y_test_ridge, t_test))\n",
        "\n",
        "plt.figure(figsize=(20,6))\n",
        "# plot training/test curves depending on model size for LinearRegression\n",
        "plt.subplot(1, 2, 1)\n",
        "plt.plot(range(M+1), train_lin_mse, sns.xkcd_rgb[\"green\"], label=\"Train MSE w/o reg\")\n",
        "plt.plot(range(M+1), test_lin_mse, sns.xkcd_rgb[\"red\"], label=\"Test MSE w/o reg\")\n",
        "plt.xlabel(\"M\")\n",
        "plt.ylabel(\"MSE\")\n",
        "plt.legend(bbox_to_anchor=(0, 1), loc='upper left', ncol=1)\n",
        "plt.ylim(0, 1.5)\n",
        "\n",
        "# plot training/test curves depending on model size for RidgeRegression\n",
        "plt.subplot(1, 2, 2)\n",
        "plt.plot(range(M+1), train_ridge_mse, sns.xkcd_rgb[\"green\"], label=\"Train MSE w/ reg\")\n",
        "plt.plot(range(M+1), test_ridge_mse, sns.xkcd_rgb[\"red\"], label=\"Test MSE w/ reg\")\n",
        "plt.xlabel(\"M\")\n",
        "plt.ylabel(\"MSE\")\n",
        "plt.legend(bbox_to_anchor=(0, 1), loc='upper left', ncol=1)\n",
        "plt.ylim(0, 1.5)\n",
        "\n",
        "plt.show()"
      ],
      "execution_count": 1122,
      "outputs": [
        {
          "output_type": "display_data",
          "data": {
            "image/png": "[encoded data removed]",
            "text/plain": [
              "<Figure size 1440x432 with 2 Axes>"
            ]
          },
          "metadata": {
            "tags": [],
            "needs_background": "light"
          }
        }
      ]
    },
    {
      "cell_type": "code",
      "metadata": {
        "id": "Ys50MZMxrxTf"
      },
      "source": [
        ""
      ],
      "execution_count": 1122,
      "outputs": []
    },
    {
      "cell_type": "markdown",
      "metadata": {
        "id": "ISAgVCXHrtXM"
      },
      "source": [
        "***Overfitting*** -> Se poate observa clar faptul ca daca eu ii dau sa zicem 15 puncte la antrenare si M egal cu numarul de puncte, se va produce un overfitting masiv. Va rezulta o functie care mapeaza fiecare punct din setul de antrenare, deci functia in cele mai multe cazuri nu va mapa bine punctele din setul de testare ( practic e prea specific ) \n",
        "\n",
        "Ex. results N = 15; M = 15\n",
        "\n",
        "Train error: 0.0037318500625822615\n",
        "\n",
        "Test  error: 103698.36802939636"
      ]
    },
    {
      "cell_type": "markdown",
      "metadata": {
        "id": "8h_rZxJ2s2pA"
      },
      "source": [
        "**Underfitting** -> In momentul in care sa zicem ca vreau sa modelez o functie sin cu o dreapta ( M = 1 ) se vede clar o diferenta foarte mare in modul in care mapeaza punctele. Acest lucru se poate vedea mult mai clar daca am mari si noise-ul, adica practic am mari distanta dintre puncte. \n",
        "Pentru a reduce eroarea putem sa marim numarul de puncte de antrenare. Am vazut o diferenta considerabila in acest caz.\n",
        "\n",
        "\n",
        "N = 10; Noise = 0.5; M = 1\n",
        "\n",
        "Train error: 0.7650447539607733\n",
        "\n",
        "Test  error: 0.7156053580775581\n",
        "\n",
        "\n",
        "N = 50; Noise = 0.5; M = 1\n",
        "\n",
        "Train error: 0.3374780554379189\n",
        "\n",
        "Test  error: 0.46967816899590364\n"
      ]
    },
    {
      "cell_type": "markdown",
      "metadata": {
        "id": "a0wX05jyynrd"
      },
      "source": [
        "Pentru a obtine **rezultate optime**, am ajuns la concluzia ca cel mai util ar fi sa aproximam o functie cu o alta de acelasi grad.\n",
        "\n",
        "Exemplu pentru sin -> \n",
        "\n",
        "N = 30; N = 0.22; M = 3\n",
        "\n",
        "Train error: 0.08822907213873597\n",
        "\n",
        "Test  error: 0.07897553196558683\n",
        "\n",
        "Se observa o diferenta majora dpdv al erorii"
      ]
    },
    {
      "cell_type": "code",
      "metadata": {
        "id": "ebyTRfNwy8KI"
      },
      "source": [
        ""
      ],
      "execution_count": 1122,
      "outputs": []
    }
  ]
}